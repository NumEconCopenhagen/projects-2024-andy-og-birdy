{
 "cells": [
  {
   "cell_type": "markdown",
   "metadata": {},
   "source": [
    "# Production economy with externalities"
   ]
  },
  {
   "cell_type": "markdown",
   "metadata": {},
   "source": [
    "# **Table of contents**<a id='toc0_'></a>    \n",
    "# - 1. [Model](#toc1_)    \n",
    "#   - 1.1. [Parameters](#toc1_1_)    \n",
    "#   - 1.2. [Workers](#toc1_2_)    \n",
    "#   - 1.3. [Capitalists](#toc1_3_)    \n",
    "#   - 1.4. [Firm](#toc1_4_)    \n",
    "#   - 1.5. [Equilibrium](#toc1_5_)    \n",
    "# - 2. [Experiments](#toc2_)    \n",
    "# - 3. [Using a class](#toc3_)    "
   ]
  }
 ],
 "metadata": {
  "kernelspec": {
   "display_name": "base",
   "language": "python",
   "name": "python3"
  },
  "language_info": {
   "codemirror_mode": {
    "name": "ipython",
    "version": 3
   },
   "file_extension": ".py",
   "mimetype": "text/x-python",
   "name": "python",
   "nbconvert_exporter": "python",
   "pygments_lexer": "ipython3",
   "version": "3.11.7"
  },
  "toc-autonumbering": true,
  "vscode": {
   "interpreter": {
    "hash": "47ef90cdf3004d3f859f1fb202523c65c07ba7c22eefd261b181f4744e2d0403"
   }
  }
 },
 "nbformat": 4,
 "nbformat_minor": 4
}
