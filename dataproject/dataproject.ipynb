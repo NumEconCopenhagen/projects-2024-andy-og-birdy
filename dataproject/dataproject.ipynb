{
 "cells": [
  {
   "cell_type": "markdown",
   "metadata": {},
   "source": [
    "# Buisness cycles and unemployment "
   ]
  },
  {
   "cell_type": "markdown",
   "metadata": {},
   "source": [
    "In this project we want to explore how buisness cycles and unemployment are correlated and if this varries across age groups. We explore this by using data for the danish GDP and danish unemployment for different age groups. Our hypothesis is that unemployment is highest for the youngest age group, as we asume are larger share \"suffers\" from post study unemployment and more people choose to be unemployed. Further more we also think this group's unemployment is more volitile, as many younger people work in jobs that are affected quicker by how the economy is going. "
   ]
  },
  {
   "cell_type": "markdown",
   "metadata": {},
   "source": [
    "# "
   ]
  },
  {
   "cell_type": "markdown",
   "metadata": {},
   "source": [
    "Imports:"
   ]
  },
  {
   "cell_type": "code",
   "execution_count": 82,
   "metadata": {},
   "outputs": [],
   "source": [
    "\n",
    "\n",
    "import pandas as pd\n",
    "import numpy as np\n",
    "import matplotlib.pyplot as plt\n",
    "import ipywidgets as widgets\n",
    "from matplotlib_venn import venn2\n",
    "import pandas_datareader # install with `pip install pandas-datareader`\n",
    "from dstapi import DstApi # install with `pip install git+https://github.com/alemartinello/dstapi`\n",
    "from IPython.display import display\n",
    "import plotly.graph_objects as go\n",
    "from plotly.subplots import make_subplots\n",
    "import seaborn as sns\n"
   ]
  },
  {
   "cell_type": "markdown",
   "metadata": {},
   "source": [
    "# Read and clean data"
   ]
  },
  {
   "cell_type": "markdown",
   "metadata": {},
   "source": [
    "We load data from \"statistikbanken\" for unemployment and BNP but it loads more varibles than we need so we inspect the loaded data. We only want unemployment for both genders total in the whole period (2008-2023). We only want BNP for fixed prices and only in perioed 2007-2023 "
   ]
  },
  {
   "cell_type": "code",
   "execution_count": 59,
   "metadata": {},
   "outputs": [],
   "source": [
    "AKU = DstApi('AKU111A') \n",
    "BNP = DstApi('NAN1') "
   ]
  },
  {
   "cell_type": "code",
   "execution_count": 60,
   "metadata": {},
   "outputs": [
    {
     "name": "stdout",
     "output_type": "stream",
     "text": [
      "Table AKU111A: Labour force status in percentage by employment status, age, sex and time\n",
      "Last update: 2024-02-22T08:00:00\n"
     ]
    },
    {
     "data": {
      "text/html": [
       "<div>\n",
       "<style scoped>\n",
       "    .dataframe tbody tr th:only-of-type {\n",
       "        vertical-align: middle;\n",
       "    }\n",
       "\n",
       "    .dataframe tbody tr th {\n",
       "        vertical-align: top;\n",
       "    }\n",
       "\n",
       "    .dataframe thead th {\n",
       "        text-align: right;\n",
       "    }\n",
       "</style>\n",
       "<table border=\"1\" class=\"dataframe\">\n",
       "  <thead>\n",
       "    <tr style=\"text-align: right;\">\n",
       "      <th></th>\n",
       "      <th>variable name</th>\n",
       "      <th># values</th>\n",
       "      <th>First value</th>\n",
       "      <th>First value label</th>\n",
       "      <th>Last value</th>\n",
       "      <th>Last value label</th>\n",
       "      <th>Time variable</th>\n",
       "    </tr>\n",
       "  </thead>\n",
       "  <tbody>\n",
       "    <tr>\n",
       "      <th>0</th>\n",
       "      <td>BESKSTATUS</td>\n",
       "      <td>3</td>\n",
       "      <td>BFK</td>\n",
       "      <td>Employment rate</td>\n",
       "      <td>EFK</td>\n",
       "      <td>Economic activity rate</td>\n",
       "      <td>False</td>\n",
       "    </tr>\n",
       "    <tr>\n",
       "      <th>1</th>\n",
       "      <td>ALDER</td>\n",
       "      <td>7</td>\n",
       "      <td>TOT</td>\n",
       "      <td>Age, total</td>\n",
       "      <td>6574</td>\n",
       "      <td>65-74 years</td>\n",
       "      <td>False</td>\n",
       "    </tr>\n",
       "    <tr>\n",
       "      <th>2</th>\n",
       "      <td>KØN</td>\n",
       "      <td>3</td>\n",
       "      <td>TOT</td>\n",
       "      <td>Total</td>\n",
       "      <td>K</td>\n",
       "      <td>Women</td>\n",
       "      <td>False</td>\n",
       "    </tr>\n",
       "    <tr>\n",
       "      <th>3</th>\n",
       "      <td>Tid</td>\n",
       "      <td>16</td>\n",
       "      <td>2008</td>\n",
       "      <td>2008</td>\n",
       "      <td>2023</td>\n",
       "      <td>2023</td>\n",
       "      <td>True</td>\n",
       "    </tr>\n",
       "  </tbody>\n",
       "</table>\n",
       "</div>"
      ],
      "text/plain": [
       "  variable name  # values First value First value label Last value  \\\n",
       "0    BESKSTATUS         3         BFK   Employment rate        EFK   \n",
       "1         ALDER         7         TOT        Age, total       6574   \n",
       "2           KØN         3         TOT             Total          K   \n",
       "3           Tid        16        2008              2008       2023   \n",
       "\n",
       "         Last value label  Time variable  \n",
       "0  Economic activity rate          False  \n",
       "1             65-74 years          False  \n",
       "2                   Women          False  \n",
       "3                    2023           True  "
      ]
     },
     "metadata": {},
     "output_type": "display_data"
    },
    {
     "name": "stdout",
     "output_type": "stream",
     "text": [
      "Table NAN1: Demand and supply by transaction, price unit and time\n",
      "Last update: 2024-03-27T08:00:00\n"
     ]
    },
    {
     "data": {
      "text/html": [
       "<div>\n",
       "<style scoped>\n",
       "    .dataframe tbody tr th:only-of-type {\n",
       "        vertical-align: middle;\n",
       "    }\n",
       "\n",
       "    .dataframe tbody tr th {\n",
       "        vertical-align: top;\n",
       "    }\n",
       "\n",
       "    .dataframe thead th {\n",
       "        text-align: right;\n",
       "    }\n",
       "</style>\n",
       "<table border=\"1\" class=\"dataframe\">\n",
       "  <thead>\n",
       "    <tr style=\"text-align: right;\">\n",
       "      <th></th>\n",
       "      <th>variable name</th>\n",
       "      <th># values</th>\n",
       "      <th>First value</th>\n",
       "      <th>First value label</th>\n",
       "      <th>Last value</th>\n",
       "      <th>Last value label</th>\n",
       "      <th>Time variable</th>\n",
       "    </tr>\n",
       "  </thead>\n",
       "  <tbody>\n",
       "    <tr>\n",
       "      <th>0</th>\n",
       "      <td>TRANSAKT</td>\n",
       "      <td>31</td>\n",
       "      <td>B1GQK</td>\n",
       "      <td>B.1*g Gross domestic product</td>\n",
       "      <td>EMPM_DC</td>\n",
       "      <td>Total employment (1,000 persons)</td>\n",
       "      <td>False</td>\n",
       "    </tr>\n",
       "    <tr>\n",
       "      <th>1</th>\n",
       "      <td>PRISENHED</td>\n",
       "      <td>6</td>\n",
       "      <td>V_M</td>\n",
       "      <td>Current prices, (bill. DKK.)</td>\n",
       "      <td>LAN_C</td>\n",
       "      <td>Pr. capita, 2010-prices, chained values, (1000...</td>\n",
       "      <td>False</td>\n",
       "    </tr>\n",
       "    <tr>\n",
       "      <th>2</th>\n",
       "      <td>Tid</td>\n",
       "      <td>58</td>\n",
       "      <td>1966</td>\n",
       "      <td>1966</td>\n",
       "      <td>2023</td>\n",
       "      <td>2023</td>\n",
       "      <td>True</td>\n",
       "    </tr>\n",
       "  </tbody>\n",
       "</table>\n",
       "</div>"
      ],
      "text/plain": [
       "  variable name  # values First value             First value label  \\\n",
       "0      TRANSAKT        31       B1GQK  B.1*g Gross domestic product   \n",
       "1     PRISENHED         6         V_M  Current prices, (bill. DKK.)   \n",
       "2           Tid        58        1966                          1966   \n",
       "\n",
       "  Last value                                   Last value label  Time variable  \n",
       "0    EMPM_DC                   Total employment (1,000 persons)          False  \n",
       "1      LAN_C  Pr. capita, 2010-prices, chained values, (1000...          False  \n",
       "2       2023                                               2023           True  "
      ]
     },
     "metadata": {},
     "output_type": "display_data"
    }
   ],
   "source": [
    "tabsum_AKU= AKU.tablesummary(language='en')\n",
    "display(tabsum_AKU)\n",
    "tabsum_BNP= BNP.tablesummary(language='en')\n",
    "display(tabsum_BNP)\n"
   ]
  },
  {
   "cell_type": "markdown",
   "metadata": {},
   "source": [
    "We further explore the varibels contained in the data set so we know what ID the varibales we are intrested in has. We see for AKU that unemployment rate has id LPCT in the category BESKSTATUS, Total has id TOT in the category KØN. For BNP we see that BNP has the ID B1GQK in category TRANSAKT, fixed prices has the ID LAN_M in category PRISENHED, and the years has the ID that is just the name of the year in the category tid. To make the code easier to read we have denoted all the explorative lines of codes. If you want to see our process just remove all '''"
   ]
  },
  {
   "cell_type": "code",
   "execution_count": 61,
   "metadata": {},
   "outputs": [
    {
     "data": {
      "text/plain": [
       "\"\\nfor var in tabsum_AKU['variable name']:\\n    print(var+':')\\n    display(AKU.variable_levels(var, language='en'))\\n\""
      ]
     },
     "execution_count": 61,
     "metadata": {},
     "output_type": "execute_result"
    }
   ],
   "source": [
    "'''\n",
    "for var in tabsum_AKU['variable name']:\n",
    "    print(var+':')\n",
    "    display(AKU.variable_levels(var, language='en'))\n",
    "'''"
   ]
  },
  {
   "cell_type": "code",
   "execution_count": 62,
   "metadata": {},
   "outputs": [
    {
     "data": {
      "text/plain": [
       "\"\\nfor var in tabsum_BNP['variable name']:\\n    print(var+':')\\n    display(BNP.variable_levels(var, language='en'))\\n\""
      ]
     },
     "execution_count": 62,
     "metadata": {},
     "output_type": "execute_result"
    }
   ],
   "source": [
    "'''\n",
    "for var in tabsum_BNP['variable name']:\n",
    "    print(var+':')\n",
    "    display(BNP.variable_levels(var, language='en'))\n",
    "'''"
   ]
  },
  {
   "cell_type": "markdown",
   "metadata": {},
   "source": [
    "As we have now identified the variables we want to use for unemplyment, we start selecting the relevant varibles."
   ]
  },
  {
   "cell_type": "code",
   "execution_count": 63,
   "metadata": {},
   "outputs": [
    {
     "data": {
      "text/plain": [
       "{'table': 'aku111a',\n",
       " 'format': 'BULK',\n",
       " 'lang': 'en',\n",
       " 'variables': [{'code': 'BESKSTATUS', 'values': ['*']},\n",
       "  {'code': 'ALDER', 'values': ['*']},\n",
       "  {'code': 'KØN', 'values': ['*']},\n",
       "  {'code': 'Tid', 'values': ['*']}]}"
      ]
     },
     "execution_count": 63,
     "metadata": {},
     "output_type": "execute_result"
    }
   ],
   "source": [
    "params_AKU= AKU.define_base_params(language='en')\n",
    "params_AKU"
   ]
  },
  {
   "cell_type": "code",
   "execution_count": 64,
   "metadata": {},
   "outputs": [],
   "source": [
    "params_AKU={'table': 'aku111a',\n",
    " 'format': 'BULK',\n",
    " 'lang': 'en',\n",
    " 'variables': [{'code': 'BESKSTATUS', 'values': ['LPCT']},\n",
    "  {'code': 'ALDER', 'values': ['*']},\n",
    "  {'code': 'KØN', 'values': ['TOT']},\n",
    "  {'code': 'Tid', 'values': ['*']}]}\n",
    "\n",
    "\n"
   ]
  },
  {
   "cell_type": "code",
   "execution_count": 65,
   "metadata": {},
   "outputs": [
    {
     "data": {
      "text/html": [
       "<div>\n",
       "<style scoped>\n",
       "    .dataframe tbody tr th:only-of-type {\n",
       "        vertical-align: middle;\n",
       "    }\n",
       "\n",
       "    .dataframe tbody tr th {\n",
       "        vertical-align: top;\n",
       "    }\n",
       "\n",
       "    .dataframe thead th {\n",
       "        text-align: right;\n",
       "    }\n",
       "</style>\n",
       "<table border=\"1\" class=\"dataframe\">\n",
       "  <thead>\n",
       "    <tr style=\"text-align: right;\">\n",
       "      <th></th>\n",
       "      <th>BESKSTATUS</th>\n",
       "      <th>ALDER</th>\n",
       "      <th>KØN</th>\n",
       "      <th>TID</th>\n",
       "      <th>INDHOLD</th>\n",
       "    </tr>\n",
       "  </thead>\n",
       "  <tbody>\n",
       "    <tr>\n",
       "      <th>57</th>\n",
       "      <td>ILO-unemployment rate</td>\n",
       "      <td>15-24 years</td>\n",
       "      <td>Total</td>\n",
       "      <td>2008</td>\n",
       "      <td>9.5</td>\n",
       "    </tr>\n",
       "    <tr>\n",
       "      <th>28</th>\n",
       "      <td>ILO-unemployment rate</td>\n",
       "      <td>25-34 years</td>\n",
       "      <td>Total</td>\n",
       "      <td>2008</td>\n",
       "      <td>3.7</td>\n",
       "    </tr>\n",
       "    <tr>\n",
       "      <th>0</th>\n",
       "      <td>ILO-unemployment rate</td>\n",
       "      <td>35-44 years</td>\n",
       "      <td>Total</td>\n",
       "      <td>2008</td>\n",
       "      <td>2.6</td>\n",
       "    </tr>\n",
       "    <tr>\n",
       "      <th>86</th>\n",
       "      <td>ILO-unemployment rate</td>\n",
       "      <td>45-54 years</td>\n",
       "      <td>Total</td>\n",
       "      <td>2008</td>\n",
       "      <td>2.0</td>\n",
       "    </tr>\n",
       "    <tr>\n",
       "      <th>58</th>\n",
       "      <td>ILO-unemployment rate</td>\n",
       "      <td>55-64 years</td>\n",
       "      <td>Total</td>\n",
       "      <td>2008</td>\n",
       "      <td>2.5</td>\n",
       "    </tr>\n",
       "    <tr>\n",
       "      <th>29</th>\n",
       "      <td>ILO-unemployment rate</td>\n",
       "      <td>65-74 years</td>\n",
       "      <td>Total</td>\n",
       "      <td>2008</td>\n",
       "      <td>..</td>\n",
       "    </tr>\n",
       "    <tr>\n",
       "      <th>85</th>\n",
       "      <td>ILO-unemployment rate</td>\n",
       "      <td>Age, total</td>\n",
       "      <td>Total</td>\n",
       "      <td>2008</td>\n",
       "      <td>3.7</td>\n",
       "    </tr>\n",
       "    <tr>\n",
       "      <th>30</th>\n",
       "      <td>ILO-unemployment rate</td>\n",
       "      <td>15-24 years</td>\n",
       "      <td>Total</td>\n",
       "      <td>2009</td>\n",
       "      <td>13.4</td>\n",
       "    </tr>\n",
       "    <tr>\n",
       "      <th>1</th>\n",
       "      <td>ILO-unemployment rate</td>\n",
       "      <td>25-34 years</td>\n",
       "      <td>Total</td>\n",
       "      <td>2009</td>\n",
       "      <td>7.2</td>\n",
       "    </tr>\n",
       "    <tr>\n",
       "      <th>87</th>\n",
       "      <td>ILO-unemployment rate</td>\n",
       "      <td>35-44 years</td>\n",
       "      <td>Total</td>\n",
       "      <td>2009</td>\n",
       "      <td>4.7</td>\n",
       "    </tr>\n",
       "  </tbody>\n",
       "</table>\n",
       "</div>"
      ],
      "text/plain": [
       "               BESKSTATUS        ALDER    KØN   TID INDHOLD\n",
       "57  ILO-unemployment rate  15-24 years  Total  2008     9.5\n",
       "28  ILO-unemployment rate  25-34 years  Total  2008     3.7\n",
       "0   ILO-unemployment rate  35-44 years  Total  2008     2.6\n",
       "86  ILO-unemployment rate  45-54 years  Total  2008     2.0\n",
       "58  ILO-unemployment rate  55-64 years  Total  2008     2.5\n",
       "29  ILO-unemployment rate  65-74 years  Total  2008      ..\n",
       "85  ILO-unemployment rate   Age, total  Total  2008     3.7\n",
       "30  ILO-unemployment rate  15-24 years  Total  2009    13.4\n",
       "1   ILO-unemployment rate  25-34 years  Total  2009     7.2\n",
       "87  ILO-unemployment rate  35-44 years  Total  2009     4.7"
      ]
     },
     "execution_count": 65,
     "metadata": {},
     "output_type": "execute_result"
    }
   ],
   "source": [
    "AKU_api=AKU.get_data(params=params_AKU)\n",
    "\n",
    "AKU_api.sort_values(by=['TID','ALDER'], inplace=True)\n",
    "AKU_api.head(10)"
   ]
  },
  {
   "cell_type": "markdown",
   "metadata": {},
   "source": [
    "Here we finish manipulating our datasubset so it only contains the variables we need. The final variables for our unemployment data can be seen here:"
   ]
  },
  {
   "cell_type": "code",
   "execution_count": 66,
   "metadata": {},
   "outputs": [
    {
     "data": {
      "text/html": [
       "<div>\n",
       "<style scoped>\n",
       "    .dataframe tbody tr th:only-of-type {\n",
       "        vertical-align: middle;\n",
       "    }\n",
       "\n",
       "    .dataframe tbody tr th {\n",
       "        vertical-align: top;\n",
       "    }\n",
       "\n",
       "    .dataframe thead th {\n",
       "        text-align: right;\n",
       "    }\n",
       "</style>\n",
       "<table border=\"1\" class=\"dataframe\">\n",
       "  <thead>\n",
       "    <tr style=\"text-align: right;\">\n",
       "      <th></th>\n",
       "      <th>ALDER</th>\n",
       "      <th>TID</th>\n",
       "      <th>UNR</th>\n",
       "    </tr>\n",
       "  </thead>\n",
       "  <tbody>\n",
       "    <tr>\n",
       "      <th>57</th>\n",
       "      <td>15-24 years</td>\n",
       "      <td>2008</td>\n",
       "      <td>9.5</td>\n",
       "    </tr>\n",
       "    <tr>\n",
       "      <th>28</th>\n",
       "      <td>25-34 years</td>\n",
       "      <td>2008</td>\n",
       "      <td>3.7</td>\n",
       "    </tr>\n",
       "    <tr>\n",
       "      <th>0</th>\n",
       "      <td>35-44 years</td>\n",
       "      <td>2008</td>\n",
       "      <td>2.6</td>\n",
       "    </tr>\n",
       "    <tr>\n",
       "      <th>86</th>\n",
       "      <td>45-54 years</td>\n",
       "      <td>2008</td>\n",
       "      <td>2.0</td>\n",
       "    </tr>\n",
       "    <tr>\n",
       "      <th>58</th>\n",
       "      <td>55-64 years</td>\n",
       "      <td>2008</td>\n",
       "      <td>2.5</td>\n",
       "    </tr>\n",
       "    <tr>\n",
       "      <th>...</th>\n",
       "      <td>...</td>\n",
       "      <td>...</td>\n",
       "      <td>...</td>\n",
       "    </tr>\n",
       "    <tr>\n",
       "      <th>108</th>\n",
       "      <td>55-64 years</td>\n",
       "      <td>2021</td>\n",
       "      <td>4.1</td>\n",
       "    </tr>\n",
       "    <tr>\n",
       "      <th>80</th>\n",
       "      <td>65-74 years</td>\n",
       "      <td>2021</td>\n",
       "      <td>3.3</td>\n",
       "    </tr>\n",
       "    <tr>\n",
       "      <th>23</th>\n",
       "      <td>Age, total</td>\n",
       "      <td>2021</td>\n",
       "      <td>5.1</td>\n",
       "    </tr>\n",
       "    <tr>\n",
       "      <th>81</th>\n",
       "      <td>15-24 years</td>\n",
       "      <td>2022</td>\n",
       "      <td>10.5</td>\n",
       "    </tr>\n",
       "    <tr>\n",
       "      <th>53</th>\n",
       "      <td>25-34 years</td>\n",
       "      <td>2022</td>\n",
       "      <td>5.4</td>\n",
       "    </tr>\n",
       "  </tbody>\n",
       "</table>\n",
       "<p>100 rows × 3 columns</p>\n",
       "</div>"
      ],
      "text/plain": [
       "           ALDER   TID   UNR\n",
       "57   15-24 years  2008   9.5\n",
       "28   25-34 years  2008   3.7\n",
       "0    35-44 years  2008   2.6\n",
       "86   45-54 years  2008   2.0\n",
       "58   55-64 years  2008   2.5\n",
       "..           ...   ...   ...\n",
       "108  55-64 years  2021   4.1\n",
       "80   65-74 years  2021   3.3\n",
       "23    Age, total  2021   5.1\n",
       "81   15-24 years  2022  10.5\n",
       "53   25-34 years  2022   5.4\n",
       "\n",
       "[100 rows x 3 columns]"
      ]
     },
     "execution_count": 66,
     "metadata": {},
     "output_type": "execute_result"
    }
   ],
   "source": [
    "AKU_Data = AKU_api.copy()\n",
    "\n",
    "AKU_Data.rename(columns = {'INDHOLD':'UNR'},inplace=True)\n",
    "del AKU_Data['BESKSTATUS']\n",
    "del AKU_Data['KØN']\n",
    "AKU_Data.head(100)"
   ]
  },
  {
   "cell_type": "markdown",
   "metadata": {},
   "source": [
    "We now do the same for our data for GDP, by creating a subset which only contains the variables we need. "
   ]
  },
  {
   "cell_type": "code",
   "execution_count": 67,
   "metadata": {},
   "outputs": [
    {
     "data": {
      "text/plain": [
       "{'table': 'nan1',\n",
       " 'format': 'BULK',\n",
       " 'lang': 'en',\n",
       " 'variables': [{'code': 'TRANSAKT', 'values': ['*']},\n",
       "  {'code': 'PRISENHED', 'values': ['*']},\n",
       "  {'code': 'Tid', 'values': ['*']}]}"
      ]
     },
     "execution_count": 67,
     "metadata": {},
     "output_type": "execute_result"
    }
   ],
   "source": [
    "params_BNP= BNP.define_base_params(language='en')\n",
    "params_BNP"
   ]
  },
  {
   "cell_type": "code",
   "execution_count": 68,
   "metadata": {},
   "outputs": [],
   "source": [
    "params_BNP = {'table': 'nan1',\n",
    " 'format': 'BULK',\n",
    " 'lang': 'en',\n",
    " 'variables': [{'code': 'TRANSAKT', 'values': ['B1GQK']},\n",
    "  {'code': 'PRISENHED', 'values': ['LAN_M']},\n",
    "  {'code': 'Tid', 'values': ['>2006<=2023']}]}"
   ]
  },
  {
   "cell_type": "code",
   "execution_count": 69,
   "metadata": {},
   "outputs": [
    {
     "data": {
      "text/html": [
       "<div>\n",
       "<style scoped>\n",
       "    .dataframe tbody tr th:only-of-type {\n",
       "        vertical-align: middle;\n",
       "    }\n",
       "\n",
       "    .dataframe tbody tr th {\n",
       "        vertical-align: top;\n",
       "    }\n",
       "\n",
       "    .dataframe thead th {\n",
       "        text-align: right;\n",
       "    }\n",
       "</style>\n",
       "<table border=\"1\" class=\"dataframe\">\n",
       "  <thead>\n",
       "    <tr style=\"text-align: right;\">\n",
       "      <th></th>\n",
       "      <th>TRANSAKT</th>\n",
       "      <th>PRISENHED</th>\n",
       "      <th>TID</th>\n",
       "      <th>INDHOLD</th>\n",
       "    </tr>\n",
       "  </thead>\n",
       "  <tbody>\n",
       "    <tr>\n",
       "      <th>0</th>\n",
       "      <td>B.1*g Gross domestic product</td>\n",
       "      <td>2010-prices, chained values, (bill. DKK.)</td>\n",
       "      <td>2007</td>\n",
       "      <td>1879.0</td>\n",
       "    </tr>\n",
       "    <tr>\n",
       "      <th>1</th>\n",
       "      <td>B.1*g Gross domestic product</td>\n",
       "      <td>2010-prices, chained values, (bill. DKK.)</td>\n",
       "      <td>2008</td>\n",
       "      <td>1869.4</td>\n",
       "    </tr>\n",
       "    <tr>\n",
       "      <th>2</th>\n",
       "      <td>B.1*g Gross domestic product</td>\n",
       "      <td>2010-prices, chained values, (bill. DKK.)</td>\n",
       "      <td>2009</td>\n",
       "      <td>1777.7</td>\n",
       "    </tr>\n",
       "    <tr>\n",
       "      <th>3</th>\n",
       "      <td>B.1*g Gross domestic product</td>\n",
       "      <td>2010-prices, chained values, (bill. DKK.)</td>\n",
       "      <td>2010</td>\n",
       "      <td>1810.9</td>\n",
       "    </tr>\n",
       "  </tbody>\n",
       "</table>\n",
       "</div>"
      ],
      "text/plain": [
       "                       TRANSAKT                                  PRISENHED  \\\n",
       "0  B.1*g Gross domestic product  2010-prices, chained values, (bill. DKK.)   \n",
       "1  B.1*g Gross domestic product  2010-prices, chained values, (bill. DKK.)   \n",
       "2  B.1*g Gross domestic product  2010-prices, chained values, (bill. DKK.)   \n",
       "3  B.1*g Gross domestic product  2010-prices, chained values, (bill. DKK.)   \n",
       "\n",
       "    TID INDHOLD  \n",
       "0  2007  1879.0  \n",
       "1  2008  1869.4  \n",
       "2  2009  1777.7  \n",
       "3  2010  1810.9  "
      ]
     },
     "execution_count": 69,
     "metadata": {},
     "output_type": "execute_result"
    }
   ],
   "source": [
    "BNP_api=BNP.get_data(params=params_BNP)\n",
    "BNP_api.sort_values(by=['TID'], inplace=True)\n",
    "BNP_api.head(4)"
   ]
  },
  {
   "cell_type": "code",
   "execution_count": 70,
   "metadata": {},
   "outputs": [
    {
     "data": {
      "text/html": [
       "<div>\n",
       "<style scoped>\n",
       "    .dataframe tbody tr th:only-of-type {\n",
       "        vertical-align: middle;\n",
       "    }\n",
       "\n",
       "    .dataframe tbody tr th {\n",
       "        vertical-align: top;\n",
       "    }\n",
       "\n",
       "    .dataframe thead th {\n",
       "        text-align: right;\n",
       "    }\n",
       "</style>\n",
       "<table border=\"1\" class=\"dataframe\">\n",
       "  <thead>\n",
       "    <tr style=\"text-align: right;\">\n",
       "      <th></th>\n",
       "      <th>TID</th>\n",
       "      <th>GDP</th>\n",
       "      <th>Growth_Rate</th>\n",
       "    </tr>\n",
       "  </thead>\n",
       "  <tbody>\n",
       "    <tr>\n",
       "      <th>0</th>\n",
       "      <td>2007</td>\n",
       "      <td>1879.0</td>\n",
       "      <td>NaN</td>\n",
       "    </tr>\n",
       "    <tr>\n",
       "      <th>1</th>\n",
       "      <td>2008</td>\n",
       "      <td>1869.4</td>\n",
       "      <td>-0.510910</td>\n",
       "    </tr>\n",
       "    <tr>\n",
       "      <th>2</th>\n",
       "      <td>2009</td>\n",
       "      <td>1777.7</td>\n",
       "      <td>-4.905317</td>\n",
       "    </tr>\n",
       "    <tr>\n",
       "      <th>3</th>\n",
       "      <td>2010</td>\n",
       "      <td>1810.9</td>\n",
       "      <td>1.867582</td>\n",
       "    </tr>\n",
       "  </tbody>\n",
       "</table>\n",
       "</div>"
      ],
      "text/plain": [
       "    TID     GDP  Growth_Rate\n",
       "0  2007  1879.0          NaN\n",
       "1  2008  1869.4    -0.510910\n",
       "2  2009  1777.7    -4.905317\n",
       "3  2010  1810.9     1.867582"
      ]
     },
     "execution_count": 70,
     "metadata": {},
     "output_type": "execute_result"
    }
   ],
   "source": [
    "BNP_Data = BNP_api.copy()\n",
    "\n",
    "BNP_Data.rename(columns = {'INDHOLD':'GDP_str'},inplace=True)\n",
    "del BNP_Data['TRANSAKT']\n",
    "del BNP_Data['PRISENHED']\n",
    "\n",
    "BNP_Data['GDP'] = BNP_Data['GDP_str'].astype(float)\n",
    "\n",
    "BNP_Data['Growth_Rate'] = (BNP_Data['GDP']-BNP_Data['GDP'].shift(1))/BNP_Data['GDP'].shift(1)*100\n",
    "\n",
    "del BNP_Data['GDP_str']\n",
    "\n",
    "BNP_Data.head(4)"
   ]
  },
  {
   "cell_type": "markdown",
   "metadata": {},
   "source": [
    "We now have deleted all irrelevant varibles and calculated the growth rate in gdp. This is our final subset for our GDP data:"
   ]
  },
  {
   "cell_type": "code",
   "execution_count": 71,
   "metadata": {},
   "outputs": [
    {
     "data": {
      "text/html": [
       "<div>\n",
       "<style scoped>\n",
       "    .dataframe tbody tr th:only-of-type {\n",
       "        vertical-align: middle;\n",
       "    }\n",
       "\n",
       "    .dataframe tbody tr th {\n",
       "        vertical-align: top;\n",
       "    }\n",
       "\n",
       "    .dataframe thead th {\n",
       "        text-align: right;\n",
       "    }\n",
       "</style>\n",
       "<table border=\"1\" class=\"dataframe\">\n",
       "  <thead>\n",
       "    <tr style=\"text-align: right;\">\n",
       "      <th></th>\n",
       "      <th>TID</th>\n",
       "      <th>GDP</th>\n",
       "      <th>Growth_Rate</th>\n",
       "    </tr>\n",
       "  </thead>\n",
       "  <tbody>\n",
       "    <tr>\n",
       "      <th>0</th>\n",
       "      <td>2007</td>\n",
       "      <td>1879.0</td>\n",
       "      <td>NaN</td>\n",
       "    </tr>\n",
       "    <tr>\n",
       "      <th>1</th>\n",
       "      <td>2008</td>\n",
       "      <td>1869.4</td>\n",
       "      <td>-0.510910</td>\n",
       "    </tr>\n",
       "    <tr>\n",
       "      <th>2</th>\n",
       "      <td>2009</td>\n",
       "      <td>1777.7</td>\n",
       "      <td>-4.905317</td>\n",
       "    </tr>\n",
       "    <tr>\n",
       "      <th>3</th>\n",
       "      <td>2010</td>\n",
       "      <td>1810.9</td>\n",
       "      <td>1.867582</td>\n",
       "    </tr>\n",
       "  </tbody>\n",
       "</table>\n",
       "</div>"
      ],
      "text/plain": [
       "    TID     GDP  Growth_Rate\n",
       "0  2007  1879.0          NaN\n",
       "1  2008  1869.4    -0.510910\n",
       "2  2009  1777.7    -4.905317\n",
       "3  2010  1810.9     1.867582"
      ]
     },
     "execution_count": 71,
     "metadata": {},
     "output_type": "execute_result"
    }
   ],
   "source": [
    "BNP_Data.head(4)"
   ]
  },
  {
   "cell_type": "markdown",
   "metadata": {},
   "source": [
    "Before we explore the correlation between buisness cycles and unemployment we first look at buisness cycles, to see if they are present in the dataset which we see they are. We do this by first defining a boom and decline threshold which we for simplicity set to 2 and 0 percent. We then display our data for GDP growth rate and mark all periods above the boom threshold with green and below the decline threshold with red. "
   ]
  },
  {
   "cell_type": "code",
   "execution_count": 72,
   "metadata": {},
   "outputs": [
    {
     "data": {
      "image/png": "[encoded data removed]",
      "text/plain": [
       "<Figure size 1000x600 with 1 Axes>"
      ]
     },
     "metadata": {},
     "output_type": "display_data"
    }
   ],
   "source": [
    "# Define boom and decline criteria\n",
    "boom_threshold = 2\n",
    "decline_threshold = 0\n",
    "\n",
    "# Filter data starting from the year 2007\n",
    "BNP_Data_filtered = BNP_Data[BNP_Data['TID'] >= 2007]\n",
    "\n",
    "# Plot business cycles\n",
    "plt.figure(figsize=(10, 6))\n",
    "plt.plot(BNP_Data_filtered['TID'], BNP_Data_filtered['Growth_Rate'], color='blue', marker='o', linestyle='-')\n",
    "\n",
    "# Highlight booms and declines\n",
    "plt.fill_between(BNP_Data_filtered['TID'], boom_threshold, BNP_Data_filtered['Growth_Rate'], where=(BNP_Data_filtered['Growth_Rate'] >= boom_threshold), interpolate=True, color='green', alpha=0.3)\n",
    "plt.fill_between(BNP_Data_filtered['TID'], decline_threshold, BNP_Data_filtered['Growth_Rate'], where=(BNP_Data_filtered['Growth_Rate'] <= decline_threshold), interpolate=True, color='red', alpha=0.3)\n",
    "\n",
    "# Plot horizontal lines for thresholds\n",
    "plt.axhline(y=boom_threshold, color='green', linestyle='--', linewidth=1)\n",
    "plt.axhline(y=decline_threshold, color='red', linestyle='--', linewidth=1)\n",
    "\n",
    "# Add labels and title\n",
    "plt.xlabel('Year')\n",
    "plt.ylabel('Growth Rate (%)')\n",
    "plt.title('Business Cycles')\n",
    "\n",
    "# Add legend\n",
    "plt.legend(['Growth Rate', 'Boom', 'Decline'])\n",
    "\n",
    "# Rotate x-axis labels for better readability\n",
    "plt.xticks(rotation=45)\n",
    "\n",
    "# Show plot\n",
    "plt.grid(True)\n",
    "plt.show()\n"
   ]
  },
  {
   "cell_type": "markdown",
   "metadata": {},
   "source": [
    "# Merge data sets"
   ]
  },
  {
   "cell_type": "markdown",
   "metadata": {},
   "source": [
    "We now want to merge our data sets so we can see if there is a correlation between unemployment rate and buisness cycles. We further want to see if these are different across age-groups. We use right-merge as dont want include 2007. Afterwards we drop GDP variable, and create a new variable which shows if the buisness cycle is in a boom, stable or decline. We now have our complete merged dataset. \n"
   ]
  },
  {
   "cell_type": "code",
   "execution_count": 73,
   "metadata": {},
   "outputs": [
    {
     "name": "stdout",
     "output_type": "stream",
     "text": [
      "      TID  Growth_Rate        ALDER  UNR Cycle_Phase\n",
      "0    2008    -0.510910  15-24 years  9.5      Stable\n",
      "1    2008    -0.510910  25-34 years  3.7      Stable\n",
      "2    2008    -0.510910  35-44 years  2.6      Stable\n",
      "3    2008    -0.510910  45-54 years  2.0      Stable\n",
      "4    2008    -0.510910  55-64 years  2.5      Stable\n",
      "..    ...          ...          ...  ...         ...\n",
      "107  2023     1.887955  35-44 years  4.0      Stable\n",
      "108  2023     1.887955  45-54 years  2.5      Stable\n",
      "109  2023     1.887955  55-64 years  3.1      Stable\n",
      "110  2023     1.887955  65-74 years  2.6      Stable\n",
      "111  2023     1.887955   Age, total  5.1      Stable\n",
      "\n",
      "[112 rows x 5 columns]\n"
     ]
    }
   ],
   "source": [
    "merged_data = pd.merge(BNP_Data, AKU_Data, on='TID', how='right')\n",
    "# 'outer' method includes all rows from both datasets, 'TID' values that do not match will be filled with NaN\n",
    "\n",
    "\n",
    "#Here we drop the column GDP\n",
    "merged_data.drop(columns=['GDP'], inplace=True)\n",
    "merged_data['TID'] = pd.to_numeric(merged_data['TID'], errors='coerce')\n",
    "merged_data['Cycle_Phase'] = np.where(merged_data['Growth_Rate'] > 2, 'Boom', np.where(merged_data['Growth_Rate'] < -2, 'Decline', 'Stable'))\n",
    "# Display the merged dataset\n",
    "print(merged_data)"
   ]
  },
  {
   "cell_type": "markdown",
   "metadata": {},
   "source": [
    "# Analysis"
   ]
  },
  {
   "cell_type": "markdown",
   "metadata": {},
   "source": [
    "For our analysis we want to calculate descriptive statics where we look at the unemployment-rate across age groups. We also want to look at the unemployment-rate given the buisnesscycle and if these vary across age-groups. "
   ]
  },
  {
   "cell_type": "code",
   "execution_count": 74,
   "metadata": {},
   "outputs": [
    {
     "name": "stdout",
     "output_type": "stream",
     "text": [
      "ALDER\n",
      "15-24 years    12.56250\n",
      "25-34 years     7.61875\n",
      "35-44 years     4.43750\n",
      "45-54 years     3.85000\n",
      "55-64 years     4.28750\n",
      "65-74 years     2.90000\n",
      "Age, total      6.01250\n",
      "Name: UNR, dtype: float64\n"
     ]
    }
   ],
   "source": [
    "#We first numerise the varibale UNR as it is a string\n",
    "merged_data['UNR'] = pd.to_numeric(merged_data['UNR'], errors='coerce')\n",
    "\n",
    "# Calculate the mean of UNR grouped by ALDER\n",
    "mean_unemployment_by_age = merged_data.groupby('ALDER')['UNR'].mean()\n",
    "\n",
    "# Display the mean unemployment rate by age\n",
    "print(mean_unemployment_by_age)"
   ]
  },
  {
   "cell_type": "markdown",
   "metadata": {},
   "source": [
    "We see that there across the whole timeperiod there is a significantly larger unemployment rate for the age group 15-24 and to a large degree also 25-34. We expected this as mentioned in the introducion to the project. We now want to look at how these flucturate given the buisness cycle. We do this by grouping the mean of the unemployment rate by the type of buisness cycle for each age group."
   ]
  },
  {
   "cell_type": "code",
   "execution_count": 75,
   "metadata": {},
   "outputs": [
    {
     "name": "stdout",
     "output_type": "stream",
     "text": [
      "Cycle_Phase  ALDER      \n",
      "Boom         15-24 years    11.600000\n",
      "             25-34 years     7.120000\n",
      "             35-44 years     4.060000\n",
      "             45-54 years     3.500000\n",
      "             55-64 years     3.840000\n",
      "             65-74 years     3.050000\n",
      "             Age, total      5.540000\n",
      "Decline      15-24 years    12.500000\n",
      "             25-34 years     7.550000\n",
      "             35-44 years     4.250000\n",
      "             45-54 years     3.900000\n",
      "             55-64 years     4.350000\n",
      "             65-74 years          NaN\n",
      "             Age, total      6.000000\n",
      "Stable       15-24 years    13.111111\n",
      "             25-34 years     7.911111\n",
      "             35-44 years     4.688889\n",
      "             45-54 years     4.033333\n",
      "             55-64 years     4.522222\n",
      "             65-74 years     2.600000\n",
      "             Age, total      6.277778\n",
      "Name: UNR, dtype: float64\n"
     ]
    }
   ],
   "source": [
    "# Group by both 'Business_Cycle' and 'ALDER' and calculate the mean UNR for each combination\n",
    "mean_unemployment_by_phase_and_age = merged_data.groupby(['Cycle_Phase', 'ALDER'])['UNR'].mean()\n",
    "\n",
    "# Print the mean unemployment rate for each combination of phase and age\n",
    "print(mean_unemployment_by_phase_and_age)"
   ]
  },
  {
   "cell_type": "markdown",
   "metadata": {},
   "source": [
    "We see that there is a higher unemployment rate in Declines than Boom, but it seems that they are highest in the stable periods, which indicates 1: We dont have a alot of observations 2: Our definitions of the periods aren't 100% given how we normally define buisness cycles. We now want to look at this graphicly where we have a timeline with the buisness cycles,and a drop down menue fo r each agegroup."
   ]
  },
  {
   "cell_type": "code",
   "execution_count": 79,
   "metadata": {},
   "outputs": [
    {
     "name": "stderr",
     "output_type": "stream",
     "text": [
      "/Users/bertrampohti/anaconda3/lib/python3.11/site-packages/seaborn/_oldcore.py:1119: FutureWarning: use_inf_as_na option is deprecated and will be removed in a future version. Convert inf values to NaN before operating instead.\n",
      "  with pd.option_context('mode.use_inf_as_na', True):\n",
      "/Users/bertrampohti/anaconda3/lib/python3.11/site-packages/seaborn/_oldcore.py:1119: FutureWarning: use_inf_as_na option is deprecated and will be removed in a future version. Convert inf values to NaN before operating instead.\n",
      "  with pd.option_context('mode.use_inf_as_na', True):\n"
     ]
    },
    {
     "data": {
      "image/png": "[encoded data removed]",
      "text/plain": [
       "<Figure size 1200x800 with 1 Axes>"
      ]
     },
     "metadata": {},
     "output_type": "display_data"
    }
   ],
   "source": [
    "# Create a figure and axis object\n",
    "plt.figure(figsize=(12, 8))\n",
    "\n",
    "# Plot the unemployment rate for each age group\n",
    "sns.lineplot(data=merged_data, x='TID', y='UNR', hue='ALDER', style='ALDER', markers=True, dashes=False, legend='full')\n",
    "\n",
    "# Loop through each unique business cycle phase\n",
    "for cycle_phase, color in {'Boom': 'green', 'Decline': 'red', 'Stable': 'grey'}.items():\n",
    "    # Filter data for the current cycle phase\n",
    "    cycle_data = merged_data[merged_data['Cycle_Phase'] == cycle_phase]\n",
    "    \n",
    "    # Plot a vertical line for each year with the color representing the cycle phase\n",
    "    for tid in cycle_data['TID'].unique():\n",
    "        # Get the corresponding UNR value for the current year and cycle phase\n",
    "        unr_value = cycle_data[cycle_data['TID'] == tid]['UNR'].iloc[0]\n",
    "        # Plot the vertical line\n",
    "        plt.axvline(x=tid, ymin=0, ymax=1, color=color, linestyle='-', alpha=0.5)\n",
    "        # Fill between lines for each business cycle phase\n",
    "        plt.fill_betweenx(y=[0, 17.5], x1=tid - 1.0, x2=tid + 0, color=color, alpha=0.1)\n",
    "\n",
    "# Set labels and title\n",
    "plt.xlabel('Time Period')\n",
    "plt.ylabel('Unemployment Rate')\n",
    "plt.title('Unemployment Rate by Age Group')\n",
    "\n",
    "# Show legend for both age groups and business cycle phases\n",
    "plt.legend(title='Age Group')\n",
    "plt.legend(title='Business Cycle Phase', loc='lower right')\n",
    "plt.grid(True)\n",
    "plt.show()"
   ]
  },
  {
   "cell_type": "markdown",
   "metadata": {},
   "source": [
    "By inspecting the graph above we once agian see that unemployment rate is highest for the youngest age group. It also looks like it is more volitile but i can be a bit difficult to say with certainty why we also calcu late the variance in unemploument rate for each age group."
   ]
  },
  {
   "cell_type": "code",
   "execution_count": 83,
   "metadata": {},
   "outputs": [
    {
     "name": "stdout",
     "output_type": "stream",
     "text": [
      "     Age Group  Variance in Unemployment Rate\n",
      "0  15-24 years                       4.721167\n",
      "1  25-34 years                       2.498958\n",
      "2  35-44 years                       1.082500\n",
      "3  45-54 years                       1.434667\n",
      "4  55-64 years                       1.134500\n",
      "5  65-74 years                       0.130000\n",
      "6   Age, total                       1.570500\n"
     ]
    }
   ],
   "source": [
    "# Calculate variance in unemployment rate for each age group\n",
    "variance_results = merged_data.groupby('ALDER')['UNR'].var()\n",
    "\n",
    "# Convert variance results to a DataFrame for better display\n",
    "variance_df = variance_results.reset_index()\n",
    "variance_df.columns = ['Age Group', 'Variance in Unemployment Rate']\n",
    "\n",
    "# Display the DataFrame\n",
    "print(variance_df)"
   ]
  },
  {
   "cell_type": "markdown",
   "metadata": {},
   "source": [
    "This confirms what the visual inspection showed, that the youngest group has the most volitile unemployment rate."
   ]
  },
  {
   "cell_type": "markdown",
   "metadata": {},
   "source": [
    "# Conclusion"
   ]
  },
  {
   "cell_type": "markdown",
   "metadata": {},
   "source": [
    "We see that unemployment rate indeed is highest for the youngest age group as we expected. Further more we also see that the youngest age group has the by far most volitile unemployment rate, which indicates that this group has a higher share of jobs that depend on the buisness cycle. \n",
    "We found that the boom periods had the lowest rates of unemployment, but that the stable periods had a higer rate than the decline periods. This goes agianst our intuition but we do see by visiual inspection that in the decline periods unemployment rates go up. This relationship between buisness cycles and unemployment rates did not vary across age groups.\n"
   ]
  }
 ],
 "metadata": {
  "kernelspec": {
   "display_name": "base",
   "language": "python",
   "name": "python3"
  },
  "language_info": {
   "codemirror_mode": {
    "name": "ipython",
    "version": 3
   },
   "file_extension": ".py",
   "mimetype": "text/x-python",
   "name": "python",
   "nbconvert_exporter": "python",
   "pygments_lexer": "ipython3",
   "version": "3.11.7"
  },
  "toc-autonumbering": true,
  "vscode": {
   "interpreter": {
    "hash": "47ef90cdf3004d3f859f1fb202523c65c07ba7c22eefd261b181f4744e2d0403"
   }
  }
 },
 "nbformat": 4,
 "nbformat_minor": 4
}
